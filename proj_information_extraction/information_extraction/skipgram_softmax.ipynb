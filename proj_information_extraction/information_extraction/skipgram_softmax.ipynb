{
  "nbformat": 4,
  "nbformat_minor": 0,
  "metadata": {
    "colab": {
      "name": "skipgram_softmax.ipynb",
      "provenance": [],
      "collapsed_sections": [],
      "authorship_tag": "ABX9TyN6Yb8IvKX5d9tYim+++fSk",
      "include_colab_link": true
    },
    "kernelspec": {
      "name": "python3",
      "display_name": "Python 3"
    }
  },
  "cells": [
    {
      "cell_type": "markdown",
      "metadata": {
        "id": "view-in-github",
        "colab_type": "text"
      },
      "source": [
        "<a href=\"https://colab.research.google.com/github/fionattu/nlp_algorithms/blob/master/proj_information_extraction/information_extraction/skipgram_softmax.ipynb\" target=\"_parent\"><img src=\"https://colab.research.google.com/assets/colab-badge.svg\" alt=\"Open In Colab\"/></a>"
      ]
    },
    {
      "cell_type": "code",
      "metadata": {
        "id": "3ER8kqZZawo2",
        "colab_type": "code",
        "outputId": "bdf30d35-26b2-48d5-dcc0-1edbfaded3da",
        "colab": {
          "base_uri": "https://localhost:8080/",
          "height": 139
        }
      },
      "source": [
        "import torch\n",
        "import torch.nn as nn\n",
        "import torch.optim as optim\n",
        "from torch.autograd import Variable\n",
        "import numpy as np\n",
        "\n",
        "sentences = [ \"i like dog\", \"i like cat\", \"i like animal\",\n",
        "              \"dog cat animal\", \"apple cat dog like\", \"dog fish milk like\",\n",
        "              \"dog cat eyes like\", \"i like apple\", \"apple i hate\",\n",
        "              \"apple i movie book music like\", \"cat dog hate\", \"cat dog like\"]\n",
        "\n",
        "word_sequence = \" \".join(sentences).split()\n",
        "word_list = list(set(word_sequence))\n",
        "word_dict = {w : i for i, w in enumerate(word_list)}\n",
        "print(word_dict)\n",
        "\n",
        "# Creating n-grams with a sliding window, n=3\n",
        "skip_grams = []\n",
        "for i in range(1, len(word_sequence) - 1):\n",
        "  center_w = word_dict[word_sequence[i]]\n",
        "  context = [word_dict[word_sequence[i - 1]], word_dict[word_sequence[i + 1]]]\n",
        "  for context_w in context:\n",
        "    skip_grams.append([center_w, context_w])\n",
        "\n",
        "\n",
        "def random_batch(n_grams, batch_size):\n",
        "  batch_inputs = []\n",
        "  batch_labels = []\n",
        "  random_indices = np.random.choice(range(len(n_grams)), batch_size, replace=False)\n",
        "\n",
        "  for i in random_indices:\n",
        "    batch_inputs.append(np.eye(voc_size)[n_grams[i][0]])  # one-hot of center_w\n",
        "    batch_labels.append(n_grams[i][1])  # index of context_w\n",
        "\n",
        "  return batch_inputs, batch_labels\n",
        "\n",
        "# Word2Vec Parameter\n",
        "batch_size = 20  # To show 2 dim embedding graph\n",
        "embedding_size = 2  # To show 2 dim embedding graph\n",
        "voc_size = len(word_list)\n",
        "dtype = torch.FloatTensor\n",
        "\n",
        "# Model\n",
        "class Word2Vec(nn.Module):\n",
        "  \n",
        "  def __init__(self):\n",
        "    super(Word2Vec, self).__init__()\n",
        "    \n",
        "    # W for hidden layer, WT for output layer, not transpose relation\n",
        "    self.W = nn.Parameter(-2 * torch.rand(voc_size, embedding_size) + 1).type(dtype)\n",
        "    self.WT = nn.Parameter(-2 * torch.rand(embedding_size, voc_size) + 1).type(dtype)\n",
        "\n",
        "  def forward(self, X):\n",
        "    # X : [batch_size, voc_size]\n",
        "    hidden_layer = torch.matmul(X, self.W) # hidden_layer : [batch_size, embedding_size]\n",
        "    output_layer = torch.matmul(hidden_layer, self.WT) # output_layer : [batch_size, voc_size]\n",
        "    return output_layer\n",
        "  \n",
        "model = Word2Vec()\n",
        "criterion = nn.CrossEntropyLoss()\n",
        "optimizer = optim.Adam(model.parameters(), lr=0.001)\n",
        "\n",
        "# Training\n",
        "for epoch in range(5000):\n",
        "    batch_inputs, batch_labels = random_batch(skip_grams, batch_size)\n",
        "\n",
        "    batch_inputs = torch.Tensor(batch_inputs)\n",
        "    batch_labels = torch.LongTensor(batch_labels)\n",
        "\n",
        "    optimizer.zero_grad()\n",
        "    output = model(batch_inputs)\n",
        "\n",
        "    # output : [batch_size, voc_size], target_batch : [batch_size] (LongTensor, not one-hot)\n",
        "    loss = criterion(output, batch_labels)\n",
        "    if (epoch + 1) % 1000 == 0:\n",
        "        print('Epoch:', '%04d' % (epoch + 1), 'cost =', '{:.6f}'.format(loss))\n",
        "\n",
        "    loss.backward()\n",
        "    optimizer.step()\n"
      ],
      "execution_count": 2,
      "outputs": [
        {
          "output_type": "stream",
          "text": [
            "{'music': 0, 'fish': 1, 'cat': 2, 'like': 3, 'milk': 4, 'movie': 5, 'book': 6, 'eyes': 7, 'apple': 8, 'dog': 9, 'hate': 10, 'animal': 11, 'i': 12}\n",
            "Epoch: 1000 cost = 2.232408\n",
            "Epoch: 2000 cost = 1.992280\n",
            "Epoch: 3000 cost = 1.951625\n",
            "Epoch: 4000 cost = 2.181620\n",
            "Epoch: 5000 cost = 1.679055\n"
          ],
          "name": "stdout"
        }
      ]
    }
  ]
}